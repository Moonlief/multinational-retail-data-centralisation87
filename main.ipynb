{
 "cells": [
  {
   "cell_type": "markdown",
   "metadata": {},
   "source": [
    "# Project 3\n"
   ]
  },
  {
   "cell_type": "markdown",
   "metadata": {},
   "source": [
    "## Importing Modules and staring local db engine"
   ]
  },
  {
   "cell_type": "code",
   "execution_count": null,
   "metadata": {},
   "outputs": [],
   "source": [
    "#Importing modules\n",
    "\n",
    "import boto3\n",
    "\n",
    "from data_cleaning import DataCleaning\n",
    "from data_extraction import DataExtractor\n",
    "from database_utils import DatabaseConnector\n",
    "import importlib\n",
    "import json\n",
    "import numpy as np\n",
    "import pandas as pd\n",
    "import re\n",
    "import requests\n",
    "from sqlalchemy import create_engine\n",
    "from sqlalchemy import inspect\n",
    "import tabula\n",
    "import yaml\n",
    "\n",
    "\n",
    "#starting local database\n",
    "\n",
    "#read creds\n",
    "uploader = DatabaseConnector()\n",
    "ml_yaml = 'ml_dbs.yaml'\n",
    "uploader.read_db_creds(ml_yaml)\n",
    "\n",
    "# initialising and returning an sqlalchemy database engine.\n",
    "\n",
    "uploading = uploader.init_db_engine_postgresql()\n",
    "\n"
   ]
  },
  {
   "cell_type": "markdown",
   "metadata": {},
   "source": [
    "## RDS ETL: User\n"
   ]
  },
  {
   "cell_type": "code",
   "execution_count": null,
   "metadata": {},
   "outputs": [],
   "source": [
    "### 1. Getting data from the RDS database\n",
    "\n",
    "## read credentials\n",
    "connector_rds = DatabaseConnector()\n",
    "ai_core_yaml = 'db_creds.yaml'\n",
    "connector_rds.read_db_creds(ai_core_yaml)\n",
    "\n",
    "## initialising and returning an sqlalchemy database engine.\n",
    "connection_rds = connector_rds.init_db_engine()\n",
    "\n",
    "## Reading the data from the RDS database\n",
    "connector_tables_rds = connector_rds.list_db_tables()\n",
    "\n",
    "\n",
    "### 2. Extracting the 'legacy_users' table to a pandas DataFrame.\n",
    "user_table_rds = 'legacy_users'\n",
    "extractor_rds = DataExtractor(connection_rds)\n",
    "user_df_rds = extractor_rds.read_rds_table(user_table_rds)\n",
    "print(user_df_rds.head(5))\n",
    "print(user_df_rds.info())\n",
    "\n",
    "### 3.Cleaning data\n",
    "clean_data_rds = DataCleaning()\n",
    "clean_df_rds = clean_data_rds.clean_user_data(user_df_rds)\n",
    "\n",
    "### 4. Loading the data\n",
    "#load clean rds dataframe into local database with a new table\n",
    "uploader.upload_to_db(uploading, clean_df_rds, 'dim_users')"
   ]
  },
  {
   "cell_type": "markdown",
   "metadata": {},
   "source": [
    "## PDF ETL: Card Details"
   ]
  },
  {
   "cell_type": "code",
   "execution_count": null,
   "metadata": {},
   "outputs": [],
   "source": [
    "### 1.Getting the data from PDF & load in df\n",
    "connector_pdf = DatabaseConnector()\n",
    "extractor_pdf = DataExtractor(connector_pdf)\n",
    "\n",
    "link = \"https://data-handling-public.s3.eu-west-1.amazonaws.com/card_details.pdf\"\n",
    "extraction_pdf = extractor_pdf.retrieve_pdf_data(link)\n",
    "print(extraction_pdf.head(5))\n",
    "print(extraction_pdf.info())\n",
    "\n",
    "### 2.Clean the pdf df\n",
    "\n",
    "clean_pdf = DataCleaning()\n",
    "\n",
    "clean_df_pdf =clean_pdf.clean_card_data(extraction_pdf)\n",
    "\n",
    "### 3. load into db\n",
    "\n",
    "uploader.upload_to_db(uploading, clean_df_pdf, 'dim_card_details')"
   ]
  },
  {
   "cell_type": "markdown",
   "metadata": {},
   "source": [
    "## API ETL:  Store\n",
    "\n",
    "\n",
    "\n",
    "\n",
    "\n"
   ]
  },
  {
   "cell_type": "code",
   "execution_count": null,
   "metadata": {},
   "outputs": [],
   "source": [
    "### 1. Getting Data from API\n",
    "\n",
    "\n",
    "headers = {\n",
    "    'x-api-key': 'yFBQbwXe9J3sd6zWVAMrK6lcxxr0q1lr2PT6DDMX'\n",
    "}\n",
    "\n",
    "number_of_stores_endpoint = 'https://aqj7u5id95.execute-api.eu-west-1.amazonaws.com/prod/number_stores'\n",
    "\n",
    "connector_api = DatabaseConnector()\n",
    "\n",
    "extractor_api = DataExtractor(connector_api)\n",
    "\n",
    "number_of_stores = extractor_api.list_number_of_stores(number_of_stores_endpoint, headers)\n",
    "print(f\"Number of stores: {number_of_stores}\")\n",
    "\n",
    "### 2. Extracting the table to a pandas DataFrame\n",
    "retrieve_store_endpoint = 'https://aqj7u5id95.execute-api.eu-west-1.amazonaws.com/prod/store_details/2'\n",
    "\n",
    "stores_df = extractor_api.retrieve_stores_data(retrieve_store_endpoint, headers, 2)\n",
    "\n",
    "### 3.Cleaning data\n",
    "\n",
    "clean_stores_api = DataCleaning()\n",
    "clean_storesdf_api = clean_stores_api.called_clean_store_data(stores_df)\n",
    "\n",
    "### 4. Loading the data\n",
    "uploader.upload_to_db(uploading, clean_storesdf_api, 'dim_store_details')"
   ]
  },
  {
   "cell_type": "markdown",
   "metadata": {},
   "source": [
    "## S3 ETL: Products\n"
   ]
  },
  {
   "cell_type": "code",
   "execution_count": null,
   "metadata": {},
   "outputs": [],
   "source": [
    "### 1. Getting data\n",
    "\n",
    "connector_s3 = DatabaseConnector()\n",
    "extractor_s3 = DataExtractor(connector_s3)\n",
    "\n",
    "\n",
    "### 2. Putting into pd df\n",
    "\n",
    "bucket = 'data-handling-public'\n",
    "object_key = \"products.csv\"\n",
    "pathway = '/Users/student/AICORE/AWS/Project_3/products.csv'\n",
    "\n",
    "extraction_s3 = extractor_s3.download_csv_from_s3(bucket, object_key, pathway)\n",
    "print(extraction_s3.head(20))\n",
    "print(extraction_s3.info())\n",
    "\n",
    "### 3. Cleaning data\n",
    "\n",
    "clean_s3 = DataCleaning()\n",
    "\n",
    "clean_df_s3 = clean_s3.called_clean_store_data(extraction_s3)\n",
    "\n",
    "\n",
    "clean_df_s3 = clean_s3.called_clean_store_data(extraction_s3)\n",
    "\n",
    "\n",
    "converted_df_s3 = clean_s3.convert_product_weights(clean_df_s3)\n",
    "print(converted_df_s3.head())\n",
    "\n",
    "\n",
    "clean_df_s3 = clean_s3.clean_products_data(converted_df_s3)\n",
    "\n",
    "\n",
    "### 4. Loading into local db\n",
    "uploader.upload_to_db(uploading, clean_df_s3, 'dim_products')\n"
   ]
  },
  {
   "cell_type": "markdown",
   "metadata": {},
   "source": [
    "## AWS DB ETL: Orders"
   ]
  },
  {
   "cell_type": "code",
   "execution_count": null,
   "metadata": {},
   "outputs": [],
   "source": [
    "connector_tables_rds = connector_rds.list_db_tables()\n",
    "\n",
    "#'orders_table'\n"
   ]
  },
  {
   "cell_type": "code",
   "execution_count": null,
   "metadata": {},
   "outputs": [],
   "source": [
    "orders_table_rds = 'orders_table'\n",
    "\n",
    "extractor_rds = DataExtractor(connection_rds)\n",
    "\n",
    "orders_df_rds = extractor_rds.read_rds_table(orders_table_rds)\n",
    "print(orders_df_rds.head(5))\n",
    "print(orders_df_rds.info())\n",
    "\n",
    "#cleaning the orders table\n",
    "\n",
    "clean_ordersdf_rds = clean_data_rds.clean_user_data(orders_df_rds)\n",
    "\n",
    "## dropping columns\n",
    "\n",
    "ordersdf_rds = clean_ordersdf_rds.drop(['first_name','last_name','1' ], axis = 1)\n",
    "print(ordersdf_rds.info())\n",
    "\n",
    "#uploading the updated orders table into the local db\n",
    "uploader.upload_to_db(uploading, ordersdf_rds, 'orders_table')\n"
   ]
  },
  {
   "cell_type": "markdown",
   "metadata": {},
   "source": [
    "## JSON S3 ETL: Date Details"
   ]
  },
  {
   "cell_type": "code",
   "execution_count": null,
   "metadata": {},
   "outputs": [],
   "source": [
    "#Preparing the extration\n",
    "\n",
    "connector_json_s3 = DatabaseConnector()\n",
    "extractor_json_s3 = DataExtractor(connector_json_s3)\n",
    "bucket = 'data-handling-public'\n",
    "object_key_json = \"date_details.json\"\n",
    "\n",
    "#Get the object\n",
    "\n",
    "extraction_json_s3 = extractor_json_s3.extract_json_from_s3(bucket, object_key_json)\n",
    "print(extraction_json_s3.head(20))\n",
    "print(extraction_json_s3.info())\n",
    "\n",
    "#Clean the data\n",
    "clean_json_s3 = DataCleaning()\n",
    "\n",
    "clean_df_json_s3 = clean_json_s3.called_clean_store_data(extraction_json_s3)\n",
    "\n",
    "#upload to local db\n",
    "uploader.upload_to_db(uploading, clean_df_json_s3, 'dim_date_times')"
   ]
  },
  {
   "cell_type": "code",
   "execution_count": null,
   "metadata": {},
   "outputs": [],
   "source": []
  }
 ],
 "metadata": {
  "kernelspec": {
   "display_name": "base",
   "language": "python",
   "name": "python3"
  },
  "language_info": {
   "codemirror_mode": {
    "name": "ipython",
    "version": 3
   },
   "file_extension": ".py",
   "mimetype": "text/x-python",
   "name": "python",
   "nbconvert_exporter": "python",
   "pygments_lexer": "ipython3",
   "version": "3.12.2"
  }
 },
 "nbformat": 4,
 "nbformat_minor": 2
}

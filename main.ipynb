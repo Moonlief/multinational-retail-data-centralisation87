{
 "cells": [
  {
   "cell_type": "markdown",
   "metadata": {},
   "source": [
    "# Project 3"
   ]
  },
  {
   "cell_type": "markdown",
   "metadata": {},
   "source": [
    "## Reading the credentials in the yaml file"
   ]
  },
  {
   "cell_type": "code",
   "execution_count": 1,
   "metadata": {},
   "outputs": [
    {
     "name": "stdout",
     "output_type": "stream",
     "text": [
      "Returning the dictionary of the credentials{'RDS_HOST': 'data-handling-project-readonly.cq2e8zno855e.eu-west-1.rds.amazonaws.com', 'RDS_PASSWORD': 'AiCore2022', 'RDS_USER': 'aicore_admin', 'RDS_DATABASE': 'postgres', 'RDS_PORT': 5432}\n",
      "Credentials loaded sucessfully!!\n"
     ]
    }
   ],
   "source": [
    "from database_utils import DatabaseConnector\n",
    "\n",
    "connector = DatabaseConnector()\n",
    "connector.read_db_creds()\n",
    "\n",
    "\n"
   ]
  },
  {
   "cell_type": "markdown",
   "metadata": {},
   "source": [
    "## initialising and returning an sqlalchemy database engine."
   ]
  },
  {
   "cell_type": "code",
   "execution_count": 2,
   "metadata": {},
   "outputs": [
    {
     "name": "stdout",
     "output_type": "stream",
     "text": [
      "Connection successful!\n"
     ]
    }
   ],
   "source": [
    "connection = connector.init_db_engine()"
   ]
  },
  {
   "cell_type": "markdown",
   "metadata": {},
   "source": [
    "## Reading the data from the RDS database"
   ]
  },
  {
   "cell_type": "code",
   "execution_count": 3,
   "metadata": {},
   "outputs": [
    {
     "name": "stdout",
     "output_type": "stream",
     "text": [
      "Tables in the database: ['legacy_store_details', 'dim_card_details', 'legacy_users', 'orders_table']\n"
     ]
    }
   ],
   "source": [
    "connector_tables = connector.list_db_tables()\n"
   ]
  },
  {
   "cell_type": "markdown",
   "metadata": {},
   "source": [
    "## extracting the database table to a pandas DataFrame."
   ]
  },
  {
   "cell_type": "code",
   "execution_count": 4,
   "metadata": {},
   "outputs": [
    {
     "name": "stdout",
     "output_type": "stream",
     "text": [
      "   index first_name last_name date_of_birth                    company  \\\n",
      "0      0   Sigfried     Noack    1990-09-30         Heydrich Junitz KG   \n",
      "1      1        Guy     Allen    1940-12-01                    Fox Ltd   \n",
      "2      2      Harry  Lawrence    1995-08-02  Johnson, Jones and Harris   \n",
      "3      3     Darren   Hussain    1972-09-23                Wheeler LLC   \n",
      "4      4      Garry     Stone    1952-12-20                 Warner Inc   \n",
      "\n",
      "                  email_address  \\\n",
      "0             rudi79@winkler.de   \n",
      "1  rhodesclifford@henderson.com   \n",
      "2  glen98@bryant-marshall.co.uk   \n",
      "3    daniellebryan@thompson.org   \n",
      "4       billy14@long-warren.com   \n",
      "\n",
      "                                             address         country  \\\n",
      "0                       Zimmerstr. 1/0\\n59015 Gießen         Germany   \n",
      "1  Studio 22a\\nLynne terrace\\nMcCarthymouth\\nTF0 9GH  United Kingdom   \n",
      "2                 92 Ann drive\\nJoanborough\\nSK0 6LR  United Kingdom   \n",
      "3             19 Robinson meadow\\nNew Tracy\\nW22 2QG  United Kingdom   \n",
      "4              3 White pass\\nHunterborough\\nNN96 4UE  United Kingdom   \n",
      "\n",
      "  country_code       phone_number   join_date  \\\n",
      "0           DE   +49(0) 047905356  2018-10-10   \n",
      "1           GB    (0161) 496 0674  2001-12-20   \n",
      "2           GB  +44(0)121 4960340  2016-12-16   \n",
      "3           GB    (0306) 999 0871  2004-02-23   \n",
      "4           GB      0121 496 0225  2006-09-01   \n",
      "\n",
      "                              user_uuid  \n",
      "0  93caf182-e4e9-4c6e-bebb-60a1a9dcf9b8  \n",
      "1  8fe96c3a-d62d-4eb5-b313-cf12d9126a49  \n",
      "2  fc461df4-b919-48b2-909e-55c95a03fe6b  \n",
      "3  6104719f-ef14-4b09-bf04-fb0c4620acb0  \n",
      "4  9523a6d3-b2dd-4670-a51a-36aebc89f579  \n",
      "<class 'pandas.core.frame.DataFrame'>\n",
      "RangeIndex: 15320 entries, 0 to 15319\n",
      "Data columns (total 12 columns):\n",
      " #   Column         Non-Null Count  Dtype \n",
      "---  ------         --------------  ----- \n",
      " 0   index          15320 non-null  int64 \n",
      " 1   first_name     15320 non-null  object\n",
      " 2   last_name      15320 non-null  object\n",
      " 3   date_of_birth  15320 non-null  object\n",
      " 4   company        15320 non-null  object\n",
      " 5   email_address  15320 non-null  object\n",
      " 6   address        15320 non-null  object\n",
      " 7   country        15320 non-null  object\n",
      " 8   country_code   15320 non-null  object\n",
      " 9   phone_number   15320 non-null  object\n",
      " 10  join_date      15320 non-null  object\n",
      " 11  user_uuid      15320 non-null  object\n",
      "dtypes: int64(1), object(11)\n",
      "memory usage: 1.4+ MB\n",
      "None\n"
     ]
    }
   ],
   "source": [
    "from data_extraction import DataExtractor\n",
    "user_table = 'legacy_users'\n",
    "\n",
    "extractor = DataExtractor(connection)\n",
    "\n",
    "user_df = extractor.read_rds_table(user_table)\n",
    "print(user_df.head(5))\n",
    "print(user_df.info())"
   ]
  },
  {
   "cell_type": "markdown",
   "metadata": {},
   "source": [
    "## cleaning data"
   ]
  },
  {
   "cell_type": "code",
   "execution_count": 5,
   "metadata": {},
   "outputs": [
    {
     "name": "stdout",
     "output_type": "stream",
     "text": [
      "Checking for Null values:\n",
      "index            0.0\n",
      "first_name       0.0\n",
      "last_name        0.0\n",
      "date_of_birth    0.0\n",
      "company          0.0\n",
      "email_address    0.0\n",
      "address          0.0\n",
      "country          0.0\n",
      "country_code     0.0\n",
      "phone_number     0.0\n",
      "join_date        0.0\n",
      "user_uuid        0.0\n",
      "dtype: float64\n",
      "Deleting rows with more than 4 Null values\n",
      "       index first_name last_name date_of_birth                       company  \\\n",
      "0          0   Sigfried     Noack    1990-09-30            Heydrich Junitz KG   \n",
      "1          1        Guy     Allen    1940-12-01                       Fox Ltd   \n",
      "2          2      Harry  Lawrence    1995-08-02     Johnson, Jones and Harris   \n",
      "3          3     Darren   Hussain    1972-09-23                   Wheeler LLC   \n",
      "4          4      Garry     Stone    1952-12-20                    Warner Inc   \n",
      "...      ...        ...       ...           ...                           ...   \n",
      "15315  14913    Stephen   Jenkins    1943-08-09  Thornton, Carroll and Newman   \n",
      "15316  14994    Stephen     Smith    1948-08-20               Robinson-Harris   \n",
      "15317  15012    Stephen  Losekann    1940-10-09                       Rosenow   \n",
      "15318  15269    Stephen    Rivera    1952-06-04         Taylor, Fry and Jones   \n",
      "15319   1249    Stephen    Duncan    1994-03-27    Phillips, Brown and Powell   \n",
      "\n",
      "                      email_address  \\\n",
      "0                 rudi79@winkler.de   \n",
      "1      rhodesclifford@henderson.com   \n",
      "2      glen98@bryant-marshall.co.uk   \n",
      "3        daniellebryan@thompson.org   \n",
      "4           billy14@long-warren.com   \n",
      "...                             ...   \n",
      "15315           s.jenkins@smith.com   \n",
      "15316             s.smith@smith.com   \n",
      "15317          s.losekann@smith.com   \n",
      "15318            s.rivera@smith.com   \n",
      "15319            s.duncan@smith.com   \n",
      "\n",
      "                                                 address         country  \\\n",
      "0                           Zimmerstr. 1/0\\n59015 Gießen         Germany   \n",
      "1      Studio 22a\\nLynne terrace\\nMcCarthymouth\\nTF0 9GH  United Kingdom   \n",
      "2                     92 Ann drive\\nJoanborough\\nSK0 6LR  United Kingdom   \n",
      "3                 19 Robinson meadow\\nNew Tracy\\nW22 2QG  United Kingdom   \n",
      "4                  3 White pass\\nHunterborough\\nNN96 4UE  United Kingdom   \n",
      "...                                                  ...             ...   \n",
      "15315     Studio 41I\\nJones lodge\\nOliviaborough\\nE8 3DU  United Kingdom   \n",
      "15316              530 Young parkway\\nMillsfurt\\nL4G 7NX  United Kingdom   \n",
      "15317  Viviane-Fritsch-Straße 3/5\\n15064 Bad Liebenwerda         Germany   \n",
      "15318   660 Ross Falls Suite 357\\nAnthonymouth, MA 09610   United States   \n",
      "15319     Studio 4\\nHancock road\\nPhillipsview\\nST1X 3XB  United Kingdom   \n",
      "\n",
      "      country_code       phone_number   join_date  \\\n",
      "0               DE   +49(0) 047905356  2018-10-10   \n",
      "1               GB    (0161) 496 0674  2001-12-20   \n",
      "2               GB  +44(0)121 4960340  2016-12-16   \n",
      "3               GB    (0306) 999 0871  2004-02-23   \n",
      "4               GB      0121 496 0225  2006-09-01   \n",
      "...            ...                ...         ...   \n",
      "15315           GB    +44(0)292018946  2016-04-15   \n",
      "15316           GB   +44(0)1144960977  2020-07-20   \n",
      "15317           DE        02984 08192  2021-03-07   \n",
      "15318           US       239.711.3836  2011-01-03   \n",
      "15319           GB   +44(0)1314960870  2015-08-28   \n",
      "\n",
      "                                  user_uuid  \n",
      "0      93caf182-e4e9-4c6e-bebb-60a1a9dcf9b8  \n",
      "1      8fe96c3a-d62d-4eb5-b313-cf12d9126a49  \n",
      "2      fc461df4-b919-48b2-909e-55c95a03fe6b  \n",
      "3      6104719f-ef14-4b09-bf04-fb0c4620acb0  \n",
      "4      9523a6d3-b2dd-4670-a51a-36aebc89f579  \n",
      "...                                     ...  \n",
      "15315  2bd3a12f-a92d-4cdd-b99c-fc70572db302  \n",
      "15316  d234c04b-c07c-46a5-a902-526f91478ecc  \n",
      "15317  1a0a8b7b-7c17-42d8-a946-8a85d5495651  \n",
      "15318  187fe06e-bd5f-4381-af2f-d7ac37ca7572  \n",
      "15319  0589bbca-1d58-4b1f-9d0a-04ed4c57aaa1  \n",
      "\n",
      "[15320 rows x 12 columns]\n",
      "Looking for duplicates:\n",
      "0        False\n",
      "1        False\n",
      "2        False\n",
      "3        False\n",
      "4        False\n",
      "         ...  \n",
      "15315    False\n",
      "15316    False\n",
      "15317    False\n",
      "15318    False\n",
      "15319    False\n",
      "Length: 15320, dtype: bool\n",
      "checking data types for each columns\n",
      "<class 'pandas.core.frame.DataFrame'>\n",
      "RangeIndex: 15320 entries, 0 to 15319\n",
      "Data columns (total 12 columns):\n",
      " #   Column         Non-Null Count  Dtype \n",
      "---  ------         --------------  ----- \n",
      " 0   index          15320 non-null  int64 \n",
      " 1   first_name     15320 non-null  object\n",
      " 2   last_name      15320 non-null  object\n",
      " 3   date_of_birth  15320 non-null  object\n",
      " 4   company        15320 non-null  object\n",
      " 5   email_address  15320 non-null  object\n",
      " 6   address        15320 non-null  object\n",
      " 7   country        15320 non-null  object\n",
      " 8   country_code   15320 non-null  object\n",
      " 9   phone_number   15320 non-null  object\n",
      " 10  join_date      15320 non-null  object\n",
      " 11  user_uuid      15320 non-null  object\n",
      "dtypes: int64(1), object(11)\n",
      "memory usage: 1.4+ MB\n",
      "None\n"
     ]
    }
   ],
   "source": [
    "from data_cleaning import DataCleaning\n",
    "\n",
    "clean_data = DataCleaning()\n",
    "clean_df = clean_data.clean_user_data(user_df)\n",
    "\n"
   ]
  },
  {
   "cell_type": "markdown",
   "metadata": {},
   "source": [
    "## uploading the cleaned dataframe into the database"
   ]
  },
  {
   "cell_type": "code",
   "execution_count": 6,
   "metadata": {},
   "outputs": [
    {
     "ename": "AttributeError",
     "evalue": "'NoneType' object has no attribute 'to_sql'",
     "output_type": "error",
     "traceback": [
      "\u001b[0;31m---------------------------------------------------------------------------\u001b[0m",
      "\u001b[0;31mAttributeError\u001b[0m                            Traceback (most recent call last)",
      "Cell \u001b[0;32mIn[6], line 1\u001b[0m\n\u001b[0;32m----> 1\u001b[0m \u001b[43mconnector\u001b[49m\u001b[38;5;241;43m.\u001b[39;49m\u001b[43mupload_to_db\u001b[49m\u001b[43m(\u001b[49m\u001b[43mconnection\u001b[49m\u001b[43m,\u001b[49m\u001b[43m \u001b[49m\u001b[43mclean_df\u001b[49m\u001b[43m,\u001b[49m\u001b[43m \u001b[49m\u001b[38;5;124;43m'\u001b[39;49m\u001b[38;5;124;43mdim_users\u001b[39;49m\u001b[38;5;124;43m'\u001b[39;49m\u001b[43m)\u001b[49m\n",
      "File \u001b[0;32m~/AICORE/AWS/Project_3/database_utils.py:46\u001b[0m, in \u001b[0;36mDatabaseConnector.upload_to_db\u001b[0;34m(self, connection, df, table_name)\u001b[0m\n\u001b[1;32m     44\u001b[0m \u001b[38;5;28;01mdef\u001b[39;00m \u001b[38;5;21mupload_to_db\u001b[39m(\u001b[38;5;28mself\u001b[39m,connection, df, table_name):\n\u001b[1;32m     45\u001b[0m     engine \u001b[38;5;241m=\u001b[39m connection\n\u001b[0;32m---> 46\u001b[0m     \u001b[43mdf\u001b[49m\u001b[38;5;241;43m.\u001b[39;49m\u001b[43mto_sql\u001b[49m(table_name, engine, if_exists\u001b[38;5;241m=\u001b[39m\u001b[38;5;124m'\u001b[39m\u001b[38;5;124mreplace\u001b[39m\u001b[38;5;124m'\u001b[39m, index\u001b[38;5;241m=\u001b[39m\u001b[38;5;28;01mFalse\u001b[39;00m)\n\u001b[1;32m     47\u001b[0m     \u001b[38;5;28mprint\u001b[39m(\u001b[38;5;124mf\u001b[39m\u001b[38;5;124m\"\u001b[39m\u001b[38;5;124mData uploaded successfully to \u001b[39m\u001b[38;5;132;01m{\u001b[39;00mtable_name\u001b[38;5;132;01m}\u001b[39;00m\u001b[38;5;124m table.\u001b[39m\u001b[38;5;124m\"\u001b[39m)\n",
      "\u001b[0;31mAttributeError\u001b[0m: 'NoneType' object has no attribute 'to_sql'"
     ]
    }
   ],
   "source": [
    "\n",
    "\n",
    "connector.upload_to_db(connection, clean_df, 'dim_users')\n"
   ]
  }
 ],
 "metadata": {
  "kernelspec": {
   "display_name": "base",
   "language": "python",
   "name": "python3"
  },
  "language_info": {
   "codemirror_mode": {
    "name": "ipython",
    "version": 3
   },
   "file_extension": ".py",
   "mimetype": "text/x-python",
   "name": "python",
   "nbconvert_exporter": "python",
   "pygments_lexer": "ipython3",
   "version": "3.12.2"
  }
 },
 "nbformat": 4,
 "nbformat_minor": 2
}

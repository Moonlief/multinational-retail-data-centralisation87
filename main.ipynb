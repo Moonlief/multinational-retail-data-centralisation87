{
 "cells": [
  {
   "cell_type": "markdown",
   "metadata": {},
   "source": [
    "# Project 3\n"
   ]
  },
  {
   "cell_type": "markdown",
   "metadata": {},
   "source": [
    "## RDS Database ETL\n",
    "### 1. Getting data from the RDS database"
   ]
  },
  {
   "cell_type": "code",
   "execution_count": 3,
   "metadata": {},
   "outputs": [
    {
     "name": "stdout",
     "output_type": "stream",
     "text": [
      "Credentials loaded sucessfully!!\n",
      "Connection successful!\n",
      "Tables in the database: ['legacy_store_details', 'dim_card_details', 'legacy_users', 'orders_table']\n"
     ]
    }
   ],
   "source": [
    "from database_utils import DatabaseConnector\n",
    "\n",
    "## read credentials\n",
    "connector_rds = DatabaseConnector()\n",
    "ai_core_yaml = 'db_creds.yaml'\n",
    "connector_rds.read_db_creds(ai_core_yaml)\n",
    "\n",
    "## initialising and returning an sqlalchemy database engine.\n",
    "connection_rds = connector_rds.init_db_engine()\n",
    "\n",
    "## Reading the data from the RDS database\n",
    "connector_tables_rds = connector_rds.list_db_tables()\n",
    "\n",
    "\n",
    "\n"
   ]
  },
  {
   "cell_type": "markdown",
   "metadata": {},
   "source": [
    "### 2. Extracting the table to a pandas DataFrame."
   ]
  },
  {
   "cell_type": "code",
   "execution_count": 4,
   "metadata": {},
   "outputs": [
    {
     "name": "stdout",
     "output_type": "stream",
     "text": [
      "   index first_name last_name date_of_birth                    company  \\\n",
      "0      0   Sigfried     Noack    1990-09-30         Heydrich Junitz KG   \n",
      "1      1        Guy     Allen    1940-12-01                    Fox Ltd   \n",
      "2      2      Harry  Lawrence    1995-08-02  Johnson, Jones and Harris   \n",
      "3      3     Darren   Hussain    1972-09-23                Wheeler LLC   \n",
      "4      4      Garry     Stone    1952-12-20                 Warner Inc   \n",
      "\n",
      "                  email_address  \\\n",
      "0             rudi79@winkler.de   \n",
      "1  rhodesclifford@henderson.com   \n",
      "2  glen98@bryant-marshall.co.uk   \n",
      "3    daniellebryan@thompson.org   \n",
      "4       billy14@long-warren.com   \n",
      "\n",
      "                                             address         country  \\\n",
      "0                       Zimmerstr. 1/0\\n59015 Gießen         Germany   \n",
      "1  Studio 22a\\nLynne terrace\\nMcCarthymouth\\nTF0 9GH  United Kingdom   \n",
      "2                 92 Ann drive\\nJoanborough\\nSK0 6LR  United Kingdom   \n",
      "3             19 Robinson meadow\\nNew Tracy\\nW22 2QG  United Kingdom   \n",
      "4              3 White pass\\nHunterborough\\nNN96 4UE  United Kingdom   \n",
      "\n",
      "  country_code       phone_number   join_date  \\\n",
      "0           DE   +49(0) 047905356  2018-10-10   \n",
      "1           GB    (0161) 496 0674  2001-12-20   \n",
      "2           GB  +44(0)121 4960340  2016-12-16   \n",
      "3           GB    (0306) 999 0871  2004-02-23   \n",
      "4           GB      0121 496 0225  2006-09-01   \n",
      "\n",
      "                              user_uuid  \n",
      "0  93caf182-e4e9-4c6e-bebb-60a1a9dcf9b8  \n",
      "1  8fe96c3a-d62d-4eb5-b313-cf12d9126a49  \n",
      "2  fc461df4-b919-48b2-909e-55c95a03fe6b  \n",
      "3  6104719f-ef14-4b09-bf04-fb0c4620acb0  \n",
      "4  9523a6d3-b2dd-4670-a51a-36aebc89f579  \n",
      "<class 'pandas.core.frame.DataFrame'>\n",
      "RangeIndex: 15320 entries, 0 to 15319\n",
      "Data columns (total 12 columns):\n",
      " #   Column         Non-Null Count  Dtype \n",
      "---  ------         --------------  ----- \n",
      " 0   index          15320 non-null  int64 \n",
      " 1   first_name     15320 non-null  object\n",
      " 2   last_name      15320 non-null  object\n",
      " 3   date_of_birth  15320 non-null  object\n",
      " 4   company        15320 non-null  object\n",
      " 5   email_address  15320 non-null  object\n",
      " 6   address        15320 non-null  object\n",
      " 7   country        15320 non-null  object\n",
      " 8   country_code   15320 non-null  object\n",
      " 9   phone_number   15320 non-null  object\n",
      " 10  join_date      15320 non-null  object\n",
      " 11  user_uuid      15320 non-null  object\n",
      "dtypes: int64(1), object(11)\n",
      "memory usage: 1.4+ MB\n",
      "None\n"
     ]
    }
   ],
   "source": [
    "from data_extraction import DataExtractor\n",
    "user_table_rds = 'legacy_users'\n",
    "\n",
    "extractor_rds = DataExtractor(connection_rds)\n",
    "\n",
    "user_df_rds = extractor.read_rds_table(user_table_rds)\n",
    "print(user_df_rds.head(5))\n",
    "print(user_df_rds.info())\n",
    "\n",
    "\n"
   ]
  },
  {
   "cell_type": "markdown",
   "metadata": {},
   "source": [
    "### Cleaning data"
   ]
  },
  {
   "cell_type": "code",
   "execution_count": 5,
   "metadata": {},
   "outputs": [
    {
     "name": "stdout",
     "output_type": "stream",
     "text": [
      "Checking for Null values:\n",
      "index            0.0\n",
      "first_name       0.0\n",
      "last_name        0.0\n",
      "date_of_birth    0.0\n",
      "company          0.0\n",
      "email_address    0.0\n",
      "address          0.0\n",
      "country          0.0\n",
      "country_code     0.0\n",
      "phone_number     0.0\n",
      "join_date        0.0\n",
      "user_uuid        0.0\n",
      "dtype: float64\n",
      "Deleting rows with more than 4 Null values\n",
      "       index first_name last_name date_of_birth                       company  \\\n",
      "0          0   Sigfried     Noack    1990-09-30            Heydrich Junitz KG   \n",
      "1          1        Guy     Allen    1940-12-01                       Fox Ltd   \n",
      "2          2      Harry  Lawrence    1995-08-02     Johnson, Jones and Harris   \n",
      "3          3     Darren   Hussain    1972-09-23                   Wheeler LLC   \n",
      "4          4      Garry     Stone    1952-12-20                    Warner Inc   \n",
      "...      ...        ...       ...           ...                           ...   \n",
      "15315  14913    Stephen   Jenkins    1943-08-09  Thornton, Carroll and Newman   \n",
      "15316  14994    Stephen     Smith    1948-08-20               Robinson-Harris   \n",
      "15317  15012    Stephen  Losekann    1940-10-09                       Rosenow   \n",
      "15318  15269    Stephen    Rivera    1952-06-04         Taylor, Fry and Jones   \n",
      "15319   1249    Stephen    Duncan    1994-03-27    Phillips, Brown and Powell   \n",
      "\n",
      "                      email_address  \\\n",
      "0                 rudi79@winkler.de   \n",
      "1      rhodesclifford@henderson.com   \n",
      "2      glen98@bryant-marshall.co.uk   \n",
      "3        daniellebryan@thompson.org   \n",
      "4           billy14@long-warren.com   \n",
      "...                             ...   \n",
      "15315           s.jenkins@smith.com   \n",
      "15316             s.smith@smith.com   \n",
      "15317          s.losekann@smith.com   \n",
      "15318            s.rivera@smith.com   \n",
      "15319            s.duncan@smith.com   \n",
      "\n",
      "                                                 address         country  \\\n",
      "0                           Zimmerstr. 1/0\\n59015 Gießen         Germany   \n",
      "1      Studio 22a\\nLynne terrace\\nMcCarthymouth\\nTF0 9GH  United Kingdom   \n",
      "2                     92 Ann drive\\nJoanborough\\nSK0 6LR  United Kingdom   \n",
      "3                 19 Robinson meadow\\nNew Tracy\\nW22 2QG  United Kingdom   \n",
      "4                  3 White pass\\nHunterborough\\nNN96 4UE  United Kingdom   \n",
      "...                                                  ...             ...   \n",
      "15315     Studio 41I\\nJones lodge\\nOliviaborough\\nE8 3DU  United Kingdom   \n",
      "15316              530 Young parkway\\nMillsfurt\\nL4G 7NX  United Kingdom   \n",
      "15317  Viviane-Fritsch-Straße 3/5\\n15064 Bad Liebenwerda         Germany   \n",
      "15318   660 Ross Falls Suite 357\\nAnthonymouth, MA 09610   United States   \n",
      "15319     Studio 4\\nHancock road\\nPhillipsview\\nST1X 3XB  United Kingdom   \n",
      "\n",
      "      country_code       phone_number   join_date  \\\n",
      "0               DE   +49(0) 047905356  2018-10-10   \n",
      "1               GB    (0161) 496 0674  2001-12-20   \n",
      "2               GB  +44(0)121 4960340  2016-12-16   \n",
      "3               GB    (0306) 999 0871  2004-02-23   \n",
      "4               GB      0121 496 0225  2006-09-01   \n",
      "...            ...                ...         ...   \n",
      "15315           GB    +44(0)292018946  2016-04-15   \n",
      "15316           GB   +44(0)1144960977  2020-07-20   \n",
      "15317           DE        02984 08192  2021-03-07   \n",
      "15318           US       239.711.3836  2011-01-03   \n",
      "15319           GB   +44(0)1314960870  2015-08-28   \n",
      "\n",
      "                                  user_uuid  \n",
      "0      93caf182-e4e9-4c6e-bebb-60a1a9dcf9b8  \n",
      "1      8fe96c3a-d62d-4eb5-b313-cf12d9126a49  \n",
      "2      fc461df4-b919-48b2-909e-55c95a03fe6b  \n",
      "3      6104719f-ef14-4b09-bf04-fb0c4620acb0  \n",
      "4      9523a6d3-b2dd-4670-a51a-36aebc89f579  \n",
      "...                                     ...  \n",
      "15315  2bd3a12f-a92d-4cdd-b99c-fc70572db302  \n",
      "15316  d234c04b-c07c-46a5-a902-526f91478ecc  \n",
      "15317  1a0a8b7b-7c17-42d8-a946-8a85d5495651  \n",
      "15318  187fe06e-bd5f-4381-af2f-d7ac37ca7572  \n",
      "15319  0589bbca-1d58-4b1f-9d0a-04ed4c57aaa1  \n",
      "\n",
      "[15320 rows x 12 columns]\n",
      "Looking for duplicates:\n",
      "0        False\n",
      "1        False\n",
      "2        False\n",
      "3        False\n",
      "4        False\n",
      "         ...  \n",
      "15315    False\n",
      "15316    False\n",
      "15317    False\n",
      "15318    False\n",
      "15319    False\n",
      "Length: 15320, dtype: bool\n",
      "checking data types for each columns\n",
      "<class 'pandas.core.frame.DataFrame'>\n",
      "RangeIndex: 15320 entries, 0 to 15319\n",
      "Data columns (total 12 columns):\n",
      " #   Column         Non-Null Count  Dtype \n",
      "---  ------         --------------  ----- \n",
      " 0   index          15320 non-null  int64 \n",
      " 1   first_name     15320 non-null  object\n",
      " 2   last_name      15320 non-null  object\n",
      " 3   date_of_birth  15320 non-null  object\n",
      " 4   company        15320 non-null  object\n",
      " 5   email_address  15320 non-null  object\n",
      " 6   address        15320 non-null  object\n",
      " 7   country        15320 non-null  object\n",
      " 8   country_code   15320 non-null  object\n",
      " 9   phone_number   15320 non-null  object\n",
      " 10  join_date      15320 non-null  object\n",
      " 11  user_uuid      15320 non-null  object\n",
      "dtypes: int64(1), object(11)\n",
      "memory usage: 1.4+ MB\n",
      "None\n"
     ]
    }
   ],
   "source": [
    "from data_cleaning import DataCleaning\n",
    "\n",
    "clean_data_rds = DataCleaning()\n",
    "clean_df_rds = clean_data_rds.clean_user_data(user_df_rds)\n",
    "\n"
   ]
  },
  {
   "cell_type": "markdown",
   "metadata": {},
   "source": [
    "### 3. Loading the data\n",
    "#### uploading the cleaned dataframe into the local database\n"
   ]
  },
  {
   "cell_type": "code",
   "execution_count": 6,
   "metadata": {},
   "outputs": [
    {
     "name": "stdout",
     "output_type": "stream",
     "text": [
      "Credentials loaded sucessfully!!\n",
      "Connection successful!\n",
      "Data uploaded successfully to dim_users table.\n"
     ]
    }
   ],
   "source": [
    "# Connect with the local database\n",
    "\n",
    "#read creds\n",
    "uploader = DatabaseConnector()\n",
    "ml_yaml = 'ml_dbs.yaml'\n",
    "uploader.read_db_creds(ml_yaml)\n",
    "\n",
    "# initialising and returning an sqlalchemy database engine.\n",
    "\n",
    "uploading = uploader.init_db_engine_postgresql()\n",
    "\n",
    "#load clean rds dataframe into local database with a new table\n",
    "uploader.upload_to_db(uploading, clean_df, 'dim_users')\n",
    "\n",
    "\n",
    "\n"
   ]
  },
  {
   "cell_type": "markdown",
   "metadata": {},
   "source": [
    "## PDF data: ETL\n",
    "### 1.Getting the data from PDF & load in df"
   ]
  },
  {
   "cell_type": "code",
   "execution_count": 7,
   "metadata": {},
   "outputs": [
    {
     "name": "stderr",
     "output_type": "stream",
     "text": [
      "Failed to import jpype dependencies. Fallback to subprocess.\n",
      "No module named 'jpype'\n",
      "'pages' argument isn't specified.Will extract only from page 1 by default.\n"
     ]
    },
    {
     "name": "stdout",
     "output_type": "stream",
     "text": [
      "[            card_number expiry_date                card_provider  \\\n",
      "0        30060773296197       09/26  Diners Club / Carte Blanche   \n",
      "1       349624180933183       10/23             American Express   \n",
      "2      3529023891650490       06/23                 JCB 16 digit   \n",
      "3       213142929492281       09/27                 JCB 15 digit   \n",
      "4          502067329974       10/25                      Maestro   \n",
      "5      3506661913512980       11/23                 JCB 16 digit   \n",
      "6       377549437870679       07/27             American Express   \n",
      "7      2321541881278150       02/29                   Mastercard   \n",
      "8      6011037917693140       02/24                     Discover   \n",
      "9          502049986008       07/23                      Maestro   \n",
      "10     6501622116456490       10/28                     Discover   \n",
      "11     6502495513721380       11/27                     Discover   \n",
      "12     3551071736826240       11/31                 JCB 16 digit   \n",
      "13      371493449732930       10/29             American Express   \n",
      "14     3536516200696080       01/29                 JCB 16 digit   \n",
      "15     5222519319551540       01/26                   Mastercard   \n",
      "16  4537509987455280000       02/32                VISA 19 digit   \n",
      "17     6011881097126120       10/26                     Discover   \n",
      "18  4204210033998580000       08/28                VISA 19 digit   \n",
      "19     3540126062083770       09/32                 JCB 16 digit   \n",
      "20      180093132939478       05/30                 JCB 15 digit   \n",
      "21     3579161126932720       02/23                 JCB 16 digit   \n",
      "22     4045259395988290       06/28                VISA 16 digit   \n",
      "23  4305628477334070000       07/24                VISA 19 digit   \n",
      "24     6011112632675670       07/31                     Discover   \n",
      "25      370629659061970       10/30             American Express   \n",
      "26     3565388078802970       03/32                 JCB 16 digit   \n",
      "27     4413511328768020       12/30                VISA 16 digit   \n",
      "28     3510326851192930       10/31                 JCB 16 digit   \n",
      "29       30439078921644       12/25  Diners Club / Carte Blanche   \n",
      "30     2296814173210180       06/24                   Mastercard   \n",
      "31     2297205767081190       10/30                   Mastercard   \n",
      "32       30280604114274       04/32  Diners Club / Carte Blanche   \n",
      "33  4024414397695410000       05/28                VISA 19 digit   \n",
      "34     4529390944325970       08/23                VISA 16 digit   \n",
      "35          60485138139       08/27                      Maestro   \n",
      "36        4243023678099       02/23                VISA 13 digit   \n",
      "37  4976058331830470000       08/26                VISA 19 digit   \n",
      "38     4224188732297920       02/24                VISA 16 digit   \n",
      "39     3514396157366920       03/29                 JCB 16 digit   \n",
      "40       30158747323244       06/25  Diners Club / Carte Blanche   \n",
      "41     3590999821623690       07/30                 JCB 16 digit   \n",
      "42          60457486839       07/27                      Maestro   \n",
      "43        4934170565606       08/26                VISA 13 digit   \n",
      "44       36125643138236       06/24  Diners Club / Carte Blanche   \n",
      "45     4499574398661660       01/24                VISA 16 digit   \n",
      "46       30079697561056       07/23  Diners Club / Carte Blanche   \n",
      "47     3569354729407150       06/31                 JCB 16 digit   \n",
      "48      213139697145299       03/24                 JCB 15 digit   \n",
      "49         676119752563       02/25                      Maestro   \n",
      "50  4923545896758580000       01/23                VISA 19 digit   \n",
      "51     4145489239111500       02/30                VISA 16 digit   \n",
      "52     4131871381315060       03/27                VISA 16 digit   \n",
      "53        4850248250585       07/26                VISA 13 digit   \n",
      "54         676231685725       09/25                      Maestro   \n",
      "\n",
      "   date_payment_confirmed  \n",
      "0              2015-11-25  \n",
      "1              2001-06-18  \n",
      "2              2000-12-26  \n",
      "3              2011-02-12  \n",
      "4              1997-03-13  \n",
      "5              2003-08-25  \n",
      "6              2006-12-11  \n",
      "7              1995-08-24  \n",
      "8              1998-10-23  \n",
      "9              2011-04-30  \n",
      "10             2006-03-11  \n",
      "11             2021-10-11  \n",
      "12             1993-07-16  \n",
      "13             2014-11-08  \n",
      "14             2009-11-29  \n",
      "15             2019-02-22  \n",
      "16             2022-09-24  \n",
      "17             1996-12-03  \n",
      "18             2019-09-21  \n",
      "19             2021-04-27  \n",
      "20             2004-12-30  \n",
      "21             2015-11-16  \n",
      "22             2011-01-23  \n",
      "23             2017-03-06  \n",
      "24             1999-02-08  \n",
      "25             2008-09-27  \n",
      "26             2016-10-28  \n",
      "27             1995-08-15  \n",
      "28             2001-06-30  \n",
      "29             1998-05-20  \n",
      "30             2020-07-09  \n",
      "31             2012-03-11  \n",
      "32             2005-04-22  \n",
      "33             1997-10-02  \n",
      "34             2009-04-15  \n",
      "35             2022-11-18  \n",
      "36             2021-07-05  \n",
      "37             2021-09-29  \n",
      "38             1997-10-26  \n",
      "39             2004-11-06  \n",
      "40             1998-02-04  \n",
      "41             2002-01-14  \n",
      "42             2006-12-31  \n",
      "43             2008-10-10  \n",
      "44             1999-03-16  \n",
      "45             2016-08-07  \n",
      "46             2000-08-15  \n",
      "47             1997-04-18  \n",
      "48             2010-03-01  \n",
      "49             1995-07-22  \n",
      "50             2017-08-15  \n",
      "51             2018-08-31  \n",
      "52             2007-07-30  \n",
      "53             1995-12-18  \n",
      "54             1998-01-30  ]\n"
     ]
    }
   ],
   "source": [
    "import tabula\n",
    "\n",
    "connector_pdf = DatabaseConnector()\n",
    "extractor_pdf = DataExtractor(connector_pdf)\n",
    "\n",
    "link = \"https://data-handling-public.s3.eu-west-1.amazonaws.com/card_details.pdf\"\n",
    "extraction_pdf = extractor_pdf.retrieve_pdf_data(link)\n",
    "print(extraction_pdf)"
   ]
  },
  {
   "cell_type": "markdown",
   "metadata": {},
   "source": [
    "### 2. put into a dataframe"
   ]
  },
  {
   "cell_type": "code",
   "execution_count": 8,
   "metadata": {},
   "outputs": [
    {
     "ename": "TypeError",
     "evalue": "DataExtractor.__init__() missing 1 required positional argument: 'connector'",
     "output_type": "error",
     "traceback": [
      "\u001b[0;31m---------------------------------------------------------------------------\u001b[0m",
      "\u001b[0;31mTypeError\u001b[0m                                 Traceback (most recent call last)",
      "Cell \u001b[0;32mIn[8], line 3\u001b[0m\n\u001b[1;32m      1\u001b[0m pdf_data_extraction\n\u001b[0;32m----> 3\u001b[0m pdf_extractor \u001b[38;5;241m=\u001b[39m \u001b[43mDataExtractor\u001b[49m\u001b[43m(\u001b[49m\u001b[43m)\u001b[49m\n\u001b[1;32m      4\u001b[0m pdf_df \u001b[38;5;241m=\u001b[39m pdf_extractor\u001b[38;5;241m.\u001b[39mread_rds_table(pdf_data_extraction)\n",
      "\u001b[0;31mTypeError\u001b[0m: DataExtractor.__init__() missing 1 required positional argument: 'connector'"
     ]
    }
   ],
   "source": [
    "\n",
    "pdf_df = extractor_pdf.load_pdf_df(extraction_pdf)"
   ]
  },
  {
   "cell_type": "code",
   "execution_count": null,
   "metadata": {},
   "outputs": [
    {
     "name": "stdout",
     "output_type": "stream",
     "text": [
      "Checking for Null values:\n"
     ]
    },
    {
     "ename": "AttributeError",
     "evalue": "'list' object has no attribute 'isna'",
     "output_type": "error",
     "traceback": [
      "\u001b[0;31m---------------------------------------------------------------------------\u001b[0m",
      "\u001b[0;31mAttributeError\u001b[0m                            Traceback (most recent call last)",
      "Cell \u001b[0;32mIn[9], line 1\u001b[0m\n\u001b[0;32m----> 1\u001b[0m clean_pdf \u001b[38;5;241m=\u001b[39m \u001b[43mclean_data\u001b[49m\u001b[38;5;241;43m.\u001b[39;49m\u001b[43mclean_card_data\u001b[49m\u001b[43m(\u001b[49m\u001b[43mpdf_data_extraction\u001b[49m\u001b[43m)\u001b[49m\n",
      "File \u001b[0;32m~/AICORE/AWS/Project_3/data_cleaning.py:29\u001b[0m, in \u001b[0;36mDataCleaning.clean_card_data\u001b[0;34m(self, clean_pdf)\u001b[0m\n\u001b[1;32m     27\u001b[0m \u001b[38;5;28;01mdef\u001b[39;00m \u001b[38;5;21mclean_card_data\u001b[39m(\u001b[38;5;28mself\u001b[39m,clean_pdf):\n\u001b[1;32m     28\u001b[0m     \u001b[38;5;28mprint\u001b[39m(\u001b[38;5;124m\"\u001b[39m\u001b[38;5;124mChecking for Null values:\u001b[39m\u001b[38;5;124m\"\u001b[39m)\n\u001b[0;32m---> 29\u001b[0m     pdf_na \u001b[38;5;241m=\u001b[39m \u001b[43mclean_pdf\u001b[49m\u001b[38;5;241;43m.\u001b[39;49m\u001b[43misna\u001b[49m()\u001b[38;5;241m.\u001b[39mmean()\u001b[38;5;241m*\u001b[39m\u001b[38;5;241m100\u001b[39m\n\u001b[1;32m     30\u001b[0m     \u001b[38;5;28mprint\u001b[39m(pdf_na)\n\u001b[1;32m     32\u001b[0m     \u001b[38;5;28mprint\u001b[39m(\u001b[38;5;124m\"\u001b[39m\u001b[38;5;124mDeleting rows with more than 4 Null values\u001b[39m\u001b[38;5;124m\"\u001b[39m)\n",
      "\u001b[0;31mAttributeError\u001b[0m: 'list' object has no attribute 'isna'"
     ]
    }
   ],
   "source": [
    "clean_pdf = clean_data.clean_card_data(pdf_data_extraction)\n",
    "\n",
    "\n",
    "#DBConnector\n",
    "# read creds\n",
    "#return db engine\n",
    "#read data \n",
    "\n",
    "#dataextractor\n",
    "#put into a df\n",
    "\n",
    "#cleaning\n",
    "#DB COnnector\n",
    "#Connect with local datbase (uploader and uploading)"
   ]
  }
 ],
 "metadata": {
  "kernelspec": {
   "display_name": "base",
   "language": "python",
   "name": "python3"
  },
  "language_info": {
   "codemirror_mode": {
    "name": "ipython",
    "version": 3
   },
   "file_extension": ".py",
   "mimetype": "text/x-python",
   "name": "python",
   "nbconvert_exporter": "python",
   "pygments_lexer": "ipython3",
   "version": "3.12.2"
  }
 },
 "nbformat": 4,
 "nbformat_minor": 2
}

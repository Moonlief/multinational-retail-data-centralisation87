{
 "cells": [
  {
   "cell_type": "markdown",
   "metadata": {},
   "source": [
    "# Project 3\n"
   ]
  },
  {
   "cell_type": "markdown",
   "metadata": {},
   "source": [
    "## RDS Database ETL\n",
    "### 1. Getting data from the RDS database"
   ]
  },
  {
   "cell_type": "code",
   "execution_count": 1,
   "metadata": {},
   "outputs": [],
   "source": [
    "#Importing modules\n",
    "\n",
    "import pandas as pd\n",
    "import tabula\n",
    "import yaml\n",
    "from sqlalchemy import create_engine\n",
    "from sqlalchemy import inspect\n"
   ]
  },
  {
   "cell_type": "code",
   "execution_count": 2,
   "metadata": {},
   "outputs": [
    {
     "name": "stdout",
     "output_type": "stream",
     "text": [
      "Credentials loaded sucessfully!!\n",
      "Connection successful!\n",
      "Tables in the database: ['legacy_store_details', 'dim_card_details', 'legacy_users', 'orders_table']\n"
     ]
    }
   ],
   "source": [
    "from database_utils import DatabaseConnector\n",
    "\n",
    "## read credentials\n",
    "connector_rds = DatabaseConnector()\n",
    "ai_core_yaml = 'db_creds.yaml'\n",
    "connector_rds.read_db_creds(ai_core_yaml)\n",
    "\n",
    "## initialising and returning an sqlalchemy database engine.\n",
    "connection_rds = connector_rds.init_db_engine()\n",
    "\n",
    "## Reading the data from the RDS database\n",
    "connector_tables_rds = connector_rds.list_db_tables()\n",
    "\n",
    "\n",
    "\n"
   ]
  },
  {
   "cell_type": "markdown",
   "metadata": {},
   "source": [
    "### 2. Extracting the table to a pandas DataFrame."
   ]
  },
  {
   "cell_type": "code",
   "execution_count": 3,
   "metadata": {},
   "outputs": [
    {
     "name": "stdout",
     "output_type": "stream",
     "text": [
      "   index first_name last_name date_of_birth                    company  \\\n",
      "0      0   Sigfried     Noack    1990-09-30         Heydrich Junitz KG   \n",
      "1      1        Guy     Allen    1940-12-01                    Fox Ltd   \n",
      "2      2      Harry  Lawrence    1995-08-02  Johnson, Jones and Harris   \n",
      "3      3     Darren   Hussain    1972-09-23                Wheeler LLC   \n",
      "4      4      Garry     Stone    1952-12-20                 Warner Inc   \n",
      "\n",
      "                  email_address  \\\n",
      "0             rudi79@winkler.de   \n",
      "1  rhodesclifford@henderson.com   \n",
      "2  glen98@bryant-marshall.co.uk   \n",
      "3    daniellebryan@thompson.org   \n",
      "4       billy14@long-warren.com   \n",
      "\n",
      "                                             address         country  \\\n",
      "0                       Zimmerstr. 1/0\\n59015 Gießen         Germany   \n",
      "1  Studio 22a\\nLynne terrace\\nMcCarthymouth\\nTF0 9GH  United Kingdom   \n",
      "2                 92 Ann drive\\nJoanborough\\nSK0 6LR  United Kingdom   \n",
      "3             19 Robinson meadow\\nNew Tracy\\nW22 2QG  United Kingdom   \n",
      "4              3 White pass\\nHunterborough\\nNN96 4UE  United Kingdom   \n",
      "\n",
      "  country_code       phone_number   join_date  \\\n",
      "0           DE   +49(0) 047905356  2018-10-10   \n",
      "1           GB    (0161) 496 0674  2001-12-20   \n",
      "2           GB  +44(0)121 4960340  2016-12-16   \n",
      "3           GB    (0306) 999 0871  2004-02-23   \n",
      "4           GB      0121 496 0225  2006-09-01   \n",
      "\n",
      "                              user_uuid  \n",
      "0  93caf182-e4e9-4c6e-bebb-60a1a9dcf9b8  \n",
      "1  8fe96c3a-d62d-4eb5-b313-cf12d9126a49  \n",
      "2  fc461df4-b919-48b2-909e-55c95a03fe6b  \n",
      "3  6104719f-ef14-4b09-bf04-fb0c4620acb0  \n",
      "4  9523a6d3-b2dd-4670-a51a-36aebc89f579  \n",
      "<class 'pandas.core.frame.DataFrame'>\n",
      "RangeIndex: 15320 entries, 0 to 15319\n",
      "Data columns (total 12 columns):\n",
      " #   Column         Non-Null Count  Dtype \n",
      "---  ------         --------------  ----- \n",
      " 0   index          15320 non-null  int64 \n",
      " 1   first_name     15320 non-null  object\n",
      " 2   last_name      15320 non-null  object\n",
      " 3   date_of_birth  15320 non-null  object\n",
      " 4   company        15320 non-null  object\n",
      " 5   email_address  15320 non-null  object\n",
      " 6   address        15320 non-null  object\n",
      " 7   country        15320 non-null  object\n",
      " 8   country_code   15320 non-null  object\n",
      " 9   phone_number   15320 non-null  object\n",
      " 10  join_date      15320 non-null  object\n",
      " 11  user_uuid      15320 non-null  object\n",
      "dtypes: int64(1), object(11)\n",
      "memory usage: 1.4+ MB\n",
      "None\n"
     ]
    }
   ],
   "source": [
    "from data_extraction import DataExtractor\n",
    "user_table_rds = 'legacy_users'\n",
    "\n",
    "extractor_rds = DataExtractor(connection_rds)\n",
    "\n",
    "user_df_rds = extractor_rds.read_rds_table(user_table_rds)\n",
    "print(user_df_rds.head(5))\n",
    "print(user_df_rds.info())\n",
    "\n",
    "\n"
   ]
  },
  {
   "cell_type": "markdown",
   "metadata": {},
   "source": [
    "### Cleaning data"
   ]
  },
  {
   "cell_type": "code",
   "execution_count": 4,
   "metadata": {},
   "outputs": [
    {
     "name": "stdout",
     "output_type": "stream",
     "text": [
      "Checking for Null values:\n",
      "index            0.0\n",
      "first_name       0.0\n",
      "last_name        0.0\n",
      "date_of_birth    0.0\n",
      "company          0.0\n",
      "email_address    0.0\n",
      "address          0.0\n",
      "country          0.0\n",
      "country_code     0.0\n",
      "phone_number     0.0\n",
      "join_date        0.0\n",
      "user_uuid        0.0\n",
      "dtype: float64\n",
      "Deleting rows with more than 4 Null values\n",
      "       index first_name last_name date_of_birth                       company  \\\n",
      "0          0   Sigfried     Noack    1990-09-30            Heydrich Junitz KG   \n",
      "1          1        Guy     Allen    1940-12-01                       Fox Ltd   \n",
      "2          2      Harry  Lawrence    1995-08-02     Johnson, Jones and Harris   \n",
      "3          3     Darren   Hussain    1972-09-23                   Wheeler LLC   \n",
      "4          4      Garry     Stone    1952-12-20                    Warner Inc   \n",
      "...      ...        ...       ...           ...                           ...   \n",
      "15315  14913    Stephen   Jenkins    1943-08-09  Thornton, Carroll and Newman   \n",
      "15316  14994    Stephen     Smith    1948-08-20               Robinson-Harris   \n",
      "15317  15012    Stephen  Losekann    1940-10-09                       Rosenow   \n",
      "15318  15269    Stephen    Rivera    1952-06-04         Taylor, Fry and Jones   \n",
      "15319   1249    Stephen    Duncan    1994-03-27    Phillips, Brown and Powell   \n",
      "\n",
      "                      email_address  \\\n",
      "0                 rudi79@winkler.de   \n",
      "1      rhodesclifford@henderson.com   \n",
      "2      glen98@bryant-marshall.co.uk   \n",
      "3        daniellebryan@thompson.org   \n",
      "4           billy14@long-warren.com   \n",
      "...                             ...   \n",
      "15315           s.jenkins@smith.com   \n",
      "15316             s.smith@smith.com   \n",
      "15317          s.losekann@smith.com   \n",
      "15318            s.rivera@smith.com   \n",
      "15319            s.duncan@smith.com   \n",
      "\n",
      "                                                 address         country  \\\n",
      "0                           Zimmerstr. 1/0\\n59015 Gießen         Germany   \n",
      "1      Studio 22a\\nLynne terrace\\nMcCarthymouth\\nTF0 9GH  United Kingdom   \n",
      "2                     92 Ann drive\\nJoanborough\\nSK0 6LR  United Kingdom   \n",
      "3                 19 Robinson meadow\\nNew Tracy\\nW22 2QG  United Kingdom   \n",
      "4                  3 White pass\\nHunterborough\\nNN96 4UE  United Kingdom   \n",
      "...                                                  ...             ...   \n",
      "15315     Studio 41I\\nJones lodge\\nOliviaborough\\nE8 3DU  United Kingdom   \n",
      "15316              530 Young parkway\\nMillsfurt\\nL4G 7NX  United Kingdom   \n",
      "15317  Viviane-Fritsch-Straße 3/5\\n15064 Bad Liebenwerda         Germany   \n",
      "15318   660 Ross Falls Suite 357\\nAnthonymouth, MA 09610   United States   \n",
      "15319     Studio 4\\nHancock road\\nPhillipsview\\nST1X 3XB  United Kingdom   \n",
      "\n",
      "      country_code       phone_number   join_date  \\\n",
      "0               DE   +49(0) 047905356  2018-10-10   \n",
      "1               GB    (0161) 496 0674  2001-12-20   \n",
      "2               GB  +44(0)121 4960340  2016-12-16   \n",
      "3               GB    (0306) 999 0871  2004-02-23   \n",
      "4               GB      0121 496 0225  2006-09-01   \n",
      "...            ...                ...         ...   \n",
      "15315           GB    +44(0)292018946  2016-04-15   \n",
      "15316           GB   +44(0)1144960977  2020-07-20   \n",
      "15317           DE        02984 08192  2021-03-07   \n",
      "15318           US       239.711.3836  2011-01-03   \n",
      "15319           GB   +44(0)1314960870  2015-08-28   \n",
      "\n",
      "                                  user_uuid  \n",
      "0      93caf182-e4e9-4c6e-bebb-60a1a9dcf9b8  \n",
      "1      8fe96c3a-d62d-4eb5-b313-cf12d9126a49  \n",
      "2      fc461df4-b919-48b2-909e-55c95a03fe6b  \n",
      "3      6104719f-ef14-4b09-bf04-fb0c4620acb0  \n",
      "4      9523a6d3-b2dd-4670-a51a-36aebc89f579  \n",
      "...                                     ...  \n",
      "15315  2bd3a12f-a92d-4cdd-b99c-fc70572db302  \n",
      "15316  d234c04b-c07c-46a5-a902-526f91478ecc  \n",
      "15317  1a0a8b7b-7c17-42d8-a946-8a85d5495651  \n",
      "15318  187fe06e-bd5f-4381-af2f-d7ac37ca7572  \n",
      "15319  0589bbca-1d58-4b1f-9d0a-04ed4c57aaa1  \n",
      "\n",
      "[15320 rows x 12 columns]\n",
      "Looking for duplicates:\n",
      "0        False\n",
      "1        False\n",
      "2        False\n",
      "3        False\n",
      "4        False\n",
      "         ...  \n",
      "15315    False\n",
      "15316    False\n",
      "15317    False\n",
      "15318    False\n",
      "15319    False\n",
      "Length: 15320, dtype: bool\n",
      "checking data types for each columns\n",
      "<class 'pandas.core.frame.DataFrame'>\n",
      "RangeIndex: 15320 entries, 0 to 15319\n",
      "Data columns (total 12 columns):\n",
      " #   Column         Non-Null Count  Dtype \n",
      "---  ------         --------------  ----- \n",
      " 0   index          15320 non-null  int64 \n",
      " 1   first_name     15320 non-null  object\n",
      " 2   last_name      15320 non-null  object\n",
      " 3   date_of_birth  15320 non-null  object\n",
      " 4   company        15320 non-null  object\n",
      " 5   email_address  15320 non-null  object\n",
      " 6   address        15320 non-null  object\n",
      " 7   country        15320 non-null  object\n",
      " 8   country_code   15320 non-null  object\n",
      " 9   phone_number   15320 non-null  object\n",
      " 10  join_date      15320 non-null  object\n",
      " 11  user_uuid      15320 non-null  object\n",
      "dtypes: int64(1), object(11)\n",
      "memory usage: 1.4+ MB\n",
      "None\n"
     ]
    }
   ],
   "source": [
    "from data_cleaning import DataCleaning\n",
    "\n",
    "clean_data_rds = DataCleaning()\n",
    "clean_df_rds = clean_data_rds.clean_user_data(user_df_rds)\n",
    "\n"
   ]
  },
  {
   "cell_type": "markdown",
   "metadata": {},
   "source": [
    "### 3. Loading the data\n",
    "#### uploading the cleaned dataframe into the local database\n"
   ]
  },
  {
   "cell_type": "code",
   "execution_count": 5,
   "metadata": {},
   "outputs": [
    {
     "name": "stdout",
     "output_type": "stream",
     "text": [
      "Credentials loaded sucessfully!!\n",
      "Connection successful!\n",
      "Data uploaded successfully to dim_users table.\n"
     ]
    }
   ],
   "source": [
    "# Connect with the local database\n",
    "\n",
    "#read creds\n",
    "uploader = DatabaseConnector()\n",
    "ml_yaml = 'ml_dbs.yaml'\n",
    "uploader.read_db_creds(ml_yaml)\n",
    "\n",
    "# initialising and returning an sqlalchemy database engine.\n",
    "\n",
    "uploading = uploader.init_db_engine_postgresql()\n",
    "\n",
    "#load clean rds dataframe into local database with a new table\n",
    "uploader.upload_to_db(uploading, clean_df_rds, 'dim_users')\n",
    "\n",
    "\n",
    "\n"
   ]
  },
  {
   "cell_type": "markdown",
   "metadata": {},
   "source": [
    "## PDF data: ETL\n",
    "### 1.Getting the data from PDF & load in df"
   ]
  },
  {
   "cell_type": "code",
   "execution_count": 6,
   "metadata": {},
   "outputs": [
    {
     "ename": "JVMNotFoundException",
     "evalue": "No JVM shared library file (libjli.dylib) found. Try setting up the JAVA_HOME environment variable properly.",
     "output_type": "error",
     "traceback": [
      "\u001b[0;31m---------------------------------------------------------------------------\u001b[0m",
      "\u001b[0;31mJVMNotFoundException\u001b[0m                      Traceback (most recent call last)",
      "Cell \u001b[0;32mIn[6], line 7\u001b[0m\n\u001b[1;32m      4\u001b[0m extractor_pdf \u001b[38;5;241m=\u001b[39m DataExtractor(connector_pdf)\n\u001b[1;32m      6\u001b[0m link \u001b[38;5;241m=\u001b[39m \u001b[38;5;124m\"\u001b[39m\u001b[38;5;124mhttps://data-handling-public.s3.eu-west-1.amazonaws.com/card_details.pdf\u001b[39m\u001b[38;5;124m\"\u001b[39m\n\u001b[0;32m----> 7\u001b[0m extraction_pdf \u001b[38;5;241m=\u001b[39m \u001b[43mextractor_pdf\u001b[49m\u001b[38;5;241;43m.\u001b[39;49m\u001b[43mretrieve_pdf_data\u001b[49m\u001b[43m(\u001b[49m\u001b[43mlink\u001b[49m\u001b[43m)\u001b[49m\n\u001b[1;32m      8\u001b[0m \u001b[38;5;28mprint\u001b[39m(extraction_pdf)\n",
      "File \u001b[0;32m~/AICORE/AWS/Project_3/data_extraction.py:23\u001b[0m, in \u001b[0;36mDataExtractor.retrieve_pdf_data\u001b[0;34m(self, pdf_link)\u001b[0m\n\u001b[1;32m     22\u001b[0m \u001b[38;5;28;01mdef\u001b[39;00m \u001b[38;5;21mretrieve_pdf_data\u001b[39m(\u001b[38;5;28mself\u001b[39m, pdf_link):\n\u001b[0;32m---> 23\u001b[0m     read_pdf \u001b[38;5;241m=\u001b[39m \u001b[43mtabula\u001b[49m\u001b[38;5;241;43m.\u001b[39;49m\u001b[43mread_pdf\u001b[49m\u001b[43m(\u001b[49m\u001b[43mpdf_link\u001b[49m\u001b[43m,\u001b[49m\u001b[43m \u001b[49m\u001b[43mpages\u001b[49m\u001b[38;5;241;43m=\u001b[39;49m\u001b[38;5;124;43m\"\u001b[39;49m\u001b[38;5;124;43mall\u001b[39;49m\u001b[38;5;124;43m\"\u001b[39;49m\u001b[43m)\u001b[49m\n\u001b[1;32m     24\u001b[0m     pdf_df \u001b[38;5;241m=\u001b[39m pd\u001b[38;5;241m.\u001b[39mDataFrame(read_pdf)\n\u001b[1;32m     25\u001b[0m     \u001b[38;5;28mself\u001b[39m\u001b[38;5;241m.\u001b[39mconnector\u001b[38;5;241m.\u001b[39mclose()\n",
      "File \u001b[0;32m~/miniconda3/lib/python3.12/site-packages/tabula/io.py:400\u001b[0m, in \u001b[0;36mread_pdf\u001b[0;34m(input_path, output_format, encoding, java_options, pandas_options, multiple_tables, user_agent, use_raw_url, pages, guess, area, relative_area, lattice, stream, password, silent, columns, relative_columns, format, batch, output_path, force_subprocess, options)\u001b[0m\n\u001b[1;32m    397\u001b[0m     \u001b[38;5;28;01mraise\u001b[39;00m \u001b[38;5;167;01mValueError\u001b[39;00m(\u001b[38;5;124mf\u001b[39m\u001b[38;5;124m\"\u001b[39m\u001b[38;5;132;01m{\u001b[39;00mpath\u001b[38;5;132;01m}\u001b[39;00m\u001b[38;5;124m is empty. Check the file, or download it manually.\u001b[39m\u001b[38;5;124m\"\u001b[39m)\n\u001b[1;32m    399\u001b[0m \u001b[38;5;28;01mtry\u001b[39;00m:\n\u001b[0;32m--> 400\u001b[0m     output \u001b[38;5;241m=\u001b[39m \u001b[43m_run\u001b[49m\u001b[43m(\u001b[49m\n\u001b[1;32m    401\u001b[0m \u001b[43m        \u001b[49m\u001b[43mtabula_options\u001b[49m\u001b[43m,\u001b[49m\n\u001b[1;32m    402\u001b[0m \u001b[43m        \u001b[49m\u001b[43mjava_options\u001b[49m\u001b[43m,\u001b[49m\n\u001b[1;32m    403\u001b[0m \u001b[43m        \u001b[49m\u001b[43mpath\u001b[49m\u001b[43m,\u001b[49m\n\u001b[1;32m    404\u001b[0m \u001b[43m        \u001b[49m\u001b[43mencoding\u001b[49m\u001b[38;5;241;43m=\u001b[39;49m\u001b[43mencoding\u001b[49m\u001b[43m,\u001b[49m\n\u001b[1;32m    405\u001b[0m \u001b[43m        \u001b[49m\u001b[43mforce_subprocess\u001b[49m\u001b[38;5;241;43m=\u001b[39;49m\u001b[43mforce_subprocess\u001b[49m\u001b[43m,\u001b[49m\n\u001b[1;32m    406\u001b[0m \u001b[43m    \u001b[49m\u001b[43m)\u001b[49m\n\u001b[1;32m    407\u001b[0m \u001b[38;5;28;01mfinally\u001b[39;00m:\n\u001b[1;32m    408\u001b[0m     \u001b[38;5;28;01mif\u001b[39;00m temporary:\n",
      "File \u001b[0;32m~/miniconda3/lib/python3.12/site-packages/tabula/io.py:74\u001b[0m, in \u001b[0;36m_run\u001b[0;34m(options, java_options, path, encoding, force_subprocess)\u001b[0m\n\u001b[1;32m     69\u001b[0m     _tabula_vm \u001b[38;5;241m=\u001b[39m SubprocessTabula(\n\u001b[1;32m     70\u001b[0m         java_options\u001b[38;5;241m=\u001b[39mjava_options, silent\u001b[38;5;241m=\u001b[39moptions\u001b[38;5;241m.\u001b[39msilent, encoding\u001b[38;5;241m=\u001b[39mencoding\n\u001b[1;32m     71\u001b[0m     )\n\u001b[1;32m     73\u001b[0m \u001b[38;5;28;01mif\u001b[39;00m \u001b[38;5;129;01mnot\u001b[39;00m _tabula_vm:\n\u001b[0;32m---> 74\u001b[0m     _tabula_vm \u001b[38;5;241m=\u001b[39m \u001b[43mTabulaVm\u001b[49m\u001b[43m(\u001b[49m\u001b[43mjava_options\u001b[49m\u001b[38;5;241;43m=\u001b[39;49m\u001b[43mjava_options\u001b[49m\u001b[43m,\u001b[49m\u001b[43m \u001b[49m\u001b[43msilent\u001b[49m\u001b[38;5;241;43m=\u001b[39;49m\u001b[43moptions\u001b[49m\u001b[38;5;241;43m.\u001b[39;49m\u001b[43msilent\u001b[49m\u001b[43m)\u001b[49m\n\u001b[1;32m     75\u001b[0m     \u001b[38;5;28;01mif\u001b[39;00m _tabula_vm \u001b[38;5;129;01mand\u001b[39;00m \u001b[38;5;129;01mnot\u001b[39;00m _tabula_vm\u001b[38;5;241m.\u001b[39mtabula:\n\u001b[1;32m     76\u001b[0m         _tabula_vm \u001b[38;5;241m=\u001b[39m SubprocessTabula(\n\u001b[1;32m     77\u001b[0m             java_options\u001b[38;5;241m=\u001b[39mjava_options, silent\u001b[38;5;241m=\u001b[39moptions\u001b[38;5;241m.\u001b[39msilent, encoding\u001b[38;5;241m=\u001b[39mencoding\n\u001b[1;32m     78\u001b[0m         )\n",
      "File \u001b[0;32m~/miniconda3/lib/python3.12/site-packages/tabula/backend.py:45\u001b[0m, in \u001b[0;36mTabulaVm.__init__\u001b[0;34m(self, java_options, silent)\u001b[0m\n\u001b[1;32m     36\u001b[0m     \u001b[38;5;28;01mif\u001b[39;00m silent:\n\u001b[1;32m     37\u001b[0m         java_options\u001b[38;5;241m.\u001b[39mextend(\n\u001b[1;32m     38\u001b[0m             (\n\u001b[1;32m     39\u001b[0m                 \u001b[38;5;124m\"\u001b[39m\u001b[38;5;124m-Dorg.slf4j.simpleLogger.defaultLogLevel=off\u001b[39m\u001b[38;5;124m\"\u001b[39m,\n\u001b[0;32m   (...)\u001b[0m\n\u001b[1;32m     42\u001b[0m             )\n\u001b[1;32m     43\u001b[0m         )\n\u001b[0;32m---> 45\u001b[0m     \u001b[43mjpype\u001b[49m\u001b[38;5;241;43m.\u001b[39;49m\u001b[43mstartJVM\u001b[49m\u001b[43m(\u001b[49m\u001b[38;5;241;43m*\u001b[39;49m\u001b[43mjava_options\u001b[49m\u001b[43m,\u001b[49m\u001b[43m \u001b[49m\u001b[43mconvertStrings\u001b[49m\u001b[38;5;241;43m=\u001b[39;49m\u001b[38;5;28;43;01mFalse\u001b[39;49;00m\u001b[43m)\u001b[49m\n\u001b[1;32m     47\u001b[0m \u001b[38;5;28;01mimport\u001b[39;00m \u001b[38;5;21;01mjava\u001b[39;00m\u001b[38;5;21;01m.\u001b[39;00m\u001b[38;5;21;01mlang\u001b[39;00m \u001b[38;5;28;01mas\u001b[39;00m \u001b[38;5;21;01mlang\u001b[39;00m\n\u001b[1;32m     48\u001b[0m \u001b[38;5;28;01mimport\u001b[39;00m \u001b[38;5;21;01mtechnology\u001b[39;00m\u001b[38;5;21;01m.\u001b[39;00m\u001b[38;5;21;01mtabula\u001b[39;00m \u001b[38;5;28;01mas\u001b[39;00m \u001b[38;5;21;01mtabula\u001b[39;00m\n",
      "File \u001b[0;32m~/miniconda3/lib/python3.12/site-packages/jpype/_core.py:219\u001b[0m, in \u001b[0;36mstartJVM\u001b[0;34m(jvmpath, classpath, ignoreUnrecognized, convertStrings, interrupt, *jvmargs)\u001b[0m\n\u001b[1;32m    216\u001b[0m         jvmargs \u001b[38;5;241m=\u001b[39m jvmargs[\u001b[38;5;241m1\u001b[39m:]\n\u001b[1;32m    218\u001b[0m \u001b[38;5;28;01mif\u001b[39;00m \u001b[38;5;129;01mnot\u001b[39;00m jvmpath:\n\u001b[0;32m--> 219\u001b[0m     jvmpath \u001b[38;5;241m=\u001b[39m \u001b[43mgetDefaultJVMPath\u001b[49m\u001b[43m(\u001b[49m\u001b[43m)\u001b[49m\n\u001b[1;32m    220\u001b[0m \u001b[38;5;28;01melse\u001b[39;00m:\n\u001b[1;32m    221\u001b[0m     \u001b[38;5;66;03m# Allow the path to be a PathLike.\u001b[39;00m\n\u001b[1;32m    222\u001b[0m     jvmpath \u001b[38;5;241m=\u001b[39m os\u001b[38;5;241m.\u001b[39mfspath(jvmpath)\n",
      "File \u001b[0;32m~/miniconda3/lib/python3.12/site-packages/jpype/_jvmfinder.py:74\u001b[0m, in \u001b[0;36mgetDefaultJVMPath\u001b[0;34m()\u001b[0m\n\u001b[1;32m     72\u001b[0m \u001b[38;5;28;01melse\u001b[39;00m:\n\u001b[1;32m     73\u001b[0m     finder \u001b[38;5;241m=\u001b[39m LinuxJVMFinder()\n\u001b[0;32m---> 74\u001b[0m \u001b[38;5;28;01mreturn\u001b[39;00m \u001b[43mfinder\u001b[49m\u001b[38;5;241;43m.\u001b[39;49m\u001b[43mget_jvm_path\u001b[49m\u001b[43m(\u001b[49m\u001b[43m)\u001b[49m\n",
      "File \u001b[0;32m~/miniconda3/lib/python3.12/site-packages/jpype/_jvmfinder.py:212\u001b[0m, in \u001b[0;36mJVMFinder.get_jvm_path\u001b[0;34m(self)\u001b[0m\n\u001b[1;32m    210\u001b[0m \u001b[38;5;28;01mif\u001b[39;00m jvm_notsupport_ext \u001b[38;5;129;01mis\u001b[39;00m \u001b[38;5;129;01mnot\u001b[39;00m \u001b[38;5;28;01mNone\u001b[39;00m:\n\u001b[1;32m    211\u001b[0m     \u001b[38;5;28;01mraise\u001b[39;00m jvm_notsupport_ext\n\u001b[0;32m--> 212\u001b[0m \u001b[38;5;28;01mraise\u001b[39;00m JVMNotFoundException(\u001b[38;5;124m\"\u001b[39m\u001b[38;5;124mNo JVM shared library file (\u001b[39m\u001b[38;5;132;01m{0}\u001b[39;00m\u001b[38;5;124m) \u001b[39m\u001b[38;5;124m\"\u001b[39m\n\u001b[1;32m    213\u001b[0m                            \u001b[38;5;124m\"\u001b[39m\u001b[38;5;124mfound. Try setting up the JAVA_HOME \u001b[39m\u001b[38;5;124m\"\u001b[39m\n\u001b[1;32m    214\u001b[0m                            \u001b[38;5;124m\"\u001b[39m\u001b[38;5;124menvironment variable properly.\u001b[39m\u001b[38;5;124m\"\u001b[39m\n\u001b[1;32m    215\u001b[0m                            \u001b[38;5;241m.\u001b[39mformat(\u001b[38;5;28mself\u001b[39m\u001b[38;5;241m.\u001b[39m_libfile))\n",
      "\u001b[0;31mJVMNotFoundException\u001b[0m: No JVM shared library file (libjli.dylib) found. Try setting up the JAVA_HOME environment variable properly."
     ]
    }
   ],
   "source": [
    "import tabula\n",
    "\n",
    "connector_pdf = DatabaseConnector()\n",
    "extractor_pdf = DataExtractor(connector_pdf)\n",
    "\n",
    "link = \"https://data-handling-public.s3.eu-west-1.amazonaws.com/card_details.pdf\"\n",
    "extraction_pdf = extractor_pdf.retrieve_pdf_data(link)\n",
    "print(extraction_pdf)"
   ]
  },
  {
   "cell_type": "markdown",
   "metadata": {},
   "source": [
    "### 2.Clean the pdf df"
   ]
  },
  {
   "cell_type": "code",
   "execution_count": null,
   "metadata": {},
   "outputs": [],
   "source": [
    "clean_pdf = DataCleaning()\n",
    "\n",
    "clean_df_pdf =clean_pdf.clean_card_data(extraction_pdf)\n",
    "\n",
    "\n",
    "#DBConnector\n",
    "# read creds\n",
    "#return db engine\n",
    "#read data \n",
    "\n",
    "#dataextractor\n",
    "#put into a df\n",
    "\n",
    "#cleaning\n",
    "#DB COnnector\n",
    "#Connect with local datbase (uploader and uploading)"
   ]
  },
  {
   "cell_type": "markdown",
   "metadata": {},
   "source": [
    "### 4. load into db"
   ]
  },
  {
   "cell_type": "code",
   "execution_count": null,
   "metadata": {},
   "outputs": [],
   "source": [
    "\n",
    "\n",
    "uploader.upload_to_db(uploading, clean_df_pdf, 'dim_card_details')"
   ]
  }
 ],
 "metadata": {
  "kernelspec": {
   "display_name": "base",
   "language": "python",
   "name": "python3"
  },
  "language_info": {
   "codemirror_mode": {
    "name": "ipython",
    "version": 3
   },
   "file_extension": ".py",
   "mimetype": "text/x-python",
   "name": "python",
   "nbconvert_exporter": "python",
   "pygments_lexer": "ipython3",
   "version": "3.12.2"
  }
 },
 "nbformat": 4,
 "nbformat_minor": 2
}

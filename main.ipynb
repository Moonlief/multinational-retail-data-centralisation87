{
 "cells": [
  {
   "cell_type": "markdown",
   "metadata": {},
   "source": [
    "# Project 3\n"
   ]
  },
  {
   "cell_type": "code",
   "execution_count": null,
   "metadata": {},
   "outputs": [],
   "source": [
    "#Importing modules\n",
    "\n",
    "import pandas as pd\n",
    "import tabula\n",
    "import yaml\n",
    "from sqlalchemy import create_engine\n",
    "from sqlalchemy import inspect\n",
    "import requests\n",
    "from database_utils import DatabaseConnector\n",
    "from data_extraction import DataExtractor\n",
    "from data_cleaning import DataCleaning\n",
    "import importlib\n",
    "import json\n",
    "import boto3\n",
    "import re\n",
    "import numpy as np\n",
    "\n",
    "\n",
    "#starting local database\n",
    "\n",
    "#read creds\n",
    "uploader = DatabaseConnector()\n",
    "ml_yaml = 'ml_dbs.yaml'\n",
    "uploader.read_db_creds(ml_yaml)\n",
    "\n",
    "# initialising and returning an sqlalchemy database engine.\n",
    "\n",
    "uploading = uploader.init_db_engine_postgresql()\n",
    "\n"
   ]
  },
  {
   "cell_type": "markdown",
   "metadata": {},
   "source": [
    "## RDS Database ETL\n"
   ]
  },
  {
   "cell_type": "markdown",
   "metadata": {},
   "source": [
    "### 1. Getting data from the RDS database\n"
   ]
  },
  {
   "cell_type": "code",
   "execution_count": null,
   "metadata": {},
   "outputs": [],
   "source": [
    "\n",
    "## read credentials\n",
    "connector_rds = DatabaseConnector()\n",
    "ai_core_yaml = 'db_creds.yaml'\n",
    "connector_rds.read_db_creds(ai_core_yaml)\n",
    "\n",
    "## initialising and returning an sqlalchemy database engine.\n",
    "connection_rds = connector_rds.init_db_engine()\n",
    "\n",
    "## Reading the data from the RDS database\n",
    "connector_tables_rds = connector_rds.list_db_tables()\n",
    "\n",
    "\n",
    "\n"
   ]
  },
  {
   "cell_type": "markdown",
   "metadata": {},
   "source": [
    "### 2. Extracting the table to a pandas DataFrame."
   ]
  },
  {
   "cell_type": "code",
   "execution_count": null,
   "metadata": {},
   "outputs": [],
   "source": [
    "user_table_rds = 'legacy_users'\n",
    "\n",
    "extractor_rds = DataExtractor(connection_rds)\n",
    "\n",
    "user_df_rds = extractor_rds.read_rds_table(user_table_rds)\n",
    "print(user_df_rds.head(5))\n",
    "print(user_df_rds.info())\n",
    "\n",
    "\n"
   ]
  },
  {
   "cell_type": "markdown",
   "metadata": {},
   "source": [
    "### 3.Cleaning data"
   ]
  },
  {
   "cell_type": "code",
   "execution_count": null,
   "metadata": {},
   "outputs": [],
   "source": [
    "\n",
    "clean_data_rds = DataCleaning()\n",
    "clean_df_rds = clean_data_rds.clean_user_data(user_df_rds)\n",
    "\n"
   ]
  },
  {
   "cell_type": "markdown",
   "metadata": {},
   "source": [
    "### 4. Loading the data\n",
    "#### uploading the cleaned dataframe into the local database\n"
   ]
  },
  {
   "cell_type": "code",
   "execution_count": null,
   "metadata": {},
   "outputs": [],
   "source": [
    "# Connect with the local database\n",
    "\n",
    "\n",
    "\n",
    "#load clean rds dataframe into local database with a new table\n",
    "uploader.upload_to_db(uploading, clean_df_rds, 'dim_users')\n",
    "\n",
    "\n",
    "\n"
   ]
  },
  {
   "cell_type": "markdown",
   "metadata": {},
   "source": []
  },
  {
   "cell_type": "markdown",
   "metadata": {},
   "source": [
    "## PDF data: ETL\n"
   ]
  },
  {
   "cell_type": "markdown",
   "metadata": {},
   "source": [
    "### 1.Getting the data from PDF & load in df"
   ]
  },
  {
   "cell_type": "code",
   "execution_count": null,
   "metadata": {},
   "outputs": [],
   "source": [
    "\n",
    "connector_pdf = DatabaseConnector()\n",
    "extractor_pdf = DataExtractor(connector_pdf)\n",
    "\n",
    "link = \"https://data-handling-public.s3.eu-west-1.amazonaws.com/card_details.pdf\"\n",
    "extraction_pdf = extractor_pdf.retrieve_pdf_data(link)\n",
    "print(extraction_pdf.head(5))\n",
    "print(extraction_pdf.info())"
   ]
  },
  {
   "cell_type": "markdown",
   "metadata": {},
   "source": [
    "### 2.Clean the pdf df"
   ]
  },
  {
   "cell_type": "code",
   "execution_count": null,
   "metadata": {},
   "outputs": [],
   "source": [
    "clean_pdf = DataCleaning()\n",
    "\n",
    "clean_df_pdf =clean_pdf.clean_card_data(extraction_pdf)\n"
   ]
  },
  {
   "cell_type": "markdown",
   "metadata": {},
   "source": [
    "### 3. load into db"
   ]
  },
  {
   "cell_type": "code",
   "execution_count": null,
   "metadata": {},
   "outputs": [],
   "source": [
    "\n",
    "\n",
    "uploader.upload_to_db(uploading, clean_df_pdf, 'dim_card_details')"
   ]
  },
  {
   "cell_type": "markdown",
   "metadata": {},
   "source": [
    "## PDF data: API\n",
    "\n",
    "\n",
    "\n",
    "\n",
    "\n"
   ]
  },
  {
   "cell_type": "markdown",
   "metadata": {},
   "source": [
    "### 1. Getting Data from API\n"
   ]
  },
  {
   "cell_type": "code",
   "execution_count": null,
   "metadata": {},
   "outputs": [],
   "source": [
    "headers = {\n",
    "    'x-api-key': 'yFBQbwXe9J3sd6zWVAMrK6lcxxr0q1lr2PT6DDMX'\n",
    "}\n",
    "\n",
    "number_of_stores_endpoint = 'https://aqj7u5id95.execute-api.eu-west-1.amazonaws.com/prod/number_stores'\n",
    "\n",
    "connector_api = DatabaseConnector()\n",
    "\n",
    "extractor_api = DataExtractor(connector_api)\n",
    "\n",
    "number_of_stores = extractor_api.list_number_of_stores(number_of_stores_endpoint, headers)\n",
    "print(f\"Number of stores: {number_of_stores}\")\n",
    "\n"
   ]
  },
  {
   "cell_type": "markdown",
   "metadata": {},
   "source": [
    "### 2. Extracting the table to a pandas DataFrame\n"
   ]
  },
  {
   "cell_type": "code",
   "execution_count": null,
   "metadata": {},
   "outputs": [],
   "source": [
    "retrieve_store_endpoint = 'https://aqj7u5id95.execute-api.eu-west-1.amazonaws.com/prod/store_details/2'\n",
    "\n",
    "stores_df = extractor_api.retrieve_stores_data(retrieve_store_endpoint, headers, 2)\n",
    "\n"
   ]
  },
  {
   "cell_type": "markdown",
   "metadata": {},
   "source": [
    "### 3.Cleaning data\n"
   ]
  },
  {
   "cell_type": "code",
   "execution_count": null,
   "metadata": {},
   "outputs": [],
   "source": [
    "\n",
    "clean_stores_api = DataCleaning()\n",
    "clean_storesdf_api = clean_stores_api.called_clean_store_data(stores_df)"
   ]
  },
  {
   "cell_type": "code",
   "execution_count": null,
   "metadata": {},
   "outputs": [],
   "source": [
    "import importlib\n",
    "import data_extraction, data_cleaning,database_utils\n",
    "importlib.reload(data_extraction)\n",
    "importlib.reload(database_utils)\n",
    "importlib.reload(data_cleaning)\n",
    "from data_extraction import DataExtractor\n",
    "from database_utils import DatabaseConnector\n",
    "from data_cleaning import DataCleaning"
   ]
  },
  {
   "cell_type": "markdown",
   "metadata": {},
   "source": [
    "### 4. Loading the data\n",
    "\n"
   ]
  },
  {
   "cell_type": "code",
   "execution_count": null,
   "metadata": {},
   "outputs": [],
   "source": [
    "uploader.upload_to_db(uploading, clean_storesdf_api, 'dim_store_details')"
   ]
  },
  {
   "cell_type": "markdown",
   "metadata": {},
   "source": [
    "## S3 data\n"
   ]
  },
  {
   "cell_type": "markdown",
   "metadata": {},
   "source": [
    "### 1. Getting data"
   ]
  },
  {
   "cell_type": "code",
   "execution_count": null,
   "metadata": {},
   "outputs": [],
   "source": [
    "connector_s3 = DatabaseConnector()\n",
    "extractor_s3 = DataExtractor(connector_s3)\n",
    "\n",
    "\n"
   ]
  },
  {
   "cell_type": "markdown",
   "metadata": {},
   "source": [
    "### 2. Putting into pd df"
   ]
  },
  {
   "cell_type": "code",
   "execution_count": null,
   "metadata": {},
   "outputs": [],
   "source": [
    "bucket = 'data-handling-public'\n",
    "object_key = \"products.csv\"\n",
    "pathway = '/Users/student/AICORE/AWS/Project_3/products.csv'\n",
    "\n",
    "extraction_s3 = extractor_s3.extract_from_s3(bucket, object_key, pathway)\n",
    "print(extraction_s3.head(20))\n",
    "print(extraction_s3.info())"
   ]
  },
  {
   "cell_type": "markdown",
   "metadata": {},
   "source": [
    "### 3. Cleaning data"
   ]
  },
  {
   "cell_type": "code",
   "execution_count": null,
   "metadata": {},
   "outputs": [],
   "source": [
    "clean_s3 = DataCleaning()\n",
    "\n",
    "clean_df_s3 = clean_s3.called_clean_store_data(extraction_s3)\n",
    "\n",
    "\n",
    "clean_df_s3 = clean_s3.called_clean_store_data(extraction_s3)\n",
    "#print('clean_df_s3.head(20)',clean_df_s3.head(20))\n",
    "#print(clean_df_s3.info())\n",
    "\n",
    "converted_df_s3 = clean_s3.convert_product_weights(clean_df_s3)\n",
    "print(converted_df_s3.head())\n",
    "\n"
   ]
  },
  {
   "cell_type": "code",
   "execution_count": null,
   "metadata": {},
   "outputs": [],
   "source": [
    "clean_df_s3 = clean_s3.clean_products_data(converted_df_s3)\n"
   ]
  },
  {
   "cell_type": "markdown",
   "metadata": {},
   "source": [
    "### 4. Loading into local db"
   ]
  },
  {
   "cell_type": "code",
   "execution_count": null,
   "metadata": {},
   "outputs": [],
   "source": [
    "uploader.upload_to_db(uploading, clean_df_s3, 'dim_products')"
   ]
  },
  {
   "cell_type": "markdown",
   "metadata": {},
   "source": []
  },
  {
   "cell_type": "markdown",
   "metadata": {},
   "source": []
  },
  {
   "cell_type": "markdown",
   "metadata": {},
   "source": [
    "## Orders - AWS DB"
   ]
  },
  {
   "cell_type": "code",
   "execution_count": null,
   "metadata": {},
   "outputs": [],
   "source": [
    "connector_tables_rds = connector_rds.list_db_tables()\n",
    "\n",
    "#'orders_table'"
   ]
  },
  {
   "cell_type": "code",
   "execution_count": null,
   "metadata": {},
   "outputs": [],
   "source": [
    "orders_table_rds = 'orders_table'\n",
    "\n",
    "extractor_rds = DataExtractor(connection_rds)\n",
    "\n",
    "orders_df_rds = extractor_rds.read_rds_table(orders_table_rds)\n",
    "print(orders_df_rds.head(5))\n",
    "print(orders_df_rds.info())"
   ]
  },
  {
   "cell_type": "code",
   "execution_count": null,
   "metadata": {},
   "outputs": [],
   "source": [
    "clean_ordersdf_rds = clean_data_rds.clean_user_data(orders_df_rds)\n",
    "\n"
   ]
  },
  {
   "cell_type": "code",
   "execution_count": 21,
   "metadata": {},
   "outputs": [
    {
     "name": "stdout",
     "output_type": "stream",
     "text": [
      "<class 'pandas.core.frame.DataFrame'>\n",
      "RangeIndex: 120123 entries, 0 to 120122\n",
      "Data columns (total 8 columns):\n",
      " #   Column            Non-Null Count   Dtype \n",
      "---  ------            --------------   ----- \n",
      " 0   level_0           120123 non-null  int64 \n",
      " 1   index             120123 non-null  int64 \n",
      " 2   date_uuid         120123 non-null  object\n",
      " 3   user_uuid         120123 non-null  object\n",
      " 4   card_number       120123 non-null  int64 \n",
      " 5   store_code        120123 non-null  object\n",
      " 6   product_code      120123 non-null  object\n",
      " 7   product_quantity  120123 non-null  int64 \n",
      "dtypes: int64(4), object(4)\n",
      "memory usage: 7.3+ MB\n",
      "None\n",
      "Data uploaded successfully to orders_table table.\n"
     ]
    }
   ],
   "source": [
    "## dropping columns\n",
    "\n",
    "ordersdf_rds = clean_ordersdf_rds.drop(['first_name','last_name','1' ], axis = 1)\n",
    "\n",
    "print(ordersdf_rds.info())\n",
    "\n",
    "uploader.upload_to_db(uploading, ordersdf_rds, 'orders_table')"
   ]
  },
  {
   "cell_type": "markdown",
   "metadata": {},
   "source": [
    "## JSON upload"
   ]
  },
  {
   "cell_type": "code",
   "execution_count": 22,
   "metadata": {},
   "outputs": [],
   "source": [
    "## JSON\n",
    "\n",
    "connector_json = DatabaseConnector()\n",
    "extractor_json = DataExtractor(connector_json)\n",
    "bucket = 'data-handling-public'\n",
    "object_key_json= \"date_details.json\"\n",
    "pathway_json = '/Users/student/AICORE/AWS/Project_3/date_details.json'\n",
    "\n",
    "extraction_json = extractor_json.extract_from_s3(bucket, object_key_json, pathway_json)\n",
    "print(extraction_json.head(20))\n",
    "print(extraction_json.info())\n",
    "\n"
   ]
  },
  {
   "cell_type": "code",
   "execution_count": null,
   "metadata": {},
   "outputs": [],
   "source": [
    "#clean_df_s3 = clean_s3.clean_products_data(converted_df_s3)\n",
    "\n",
    "#dim_date_times\n",
    "\n",
    "#uploader.upload_to_db(uploading, clean_df_s3, 'dim_date_times')"
   ]
  }
 ],
 "metadata": {
  "kernelspec": {
   "display_name": "base",
   "language": "python",
   "name": "python3"
  },
  "language_info": {
   "codemirror_mode": {
    "name": "ipython",
    "version": 3
   },
   "file_extension": ".py",
   "mimetype": "text/x-python",
   "name": "python",
   "nbconvert_exporter": "python",
   "pygments_lexer": "ipython3",
   "version": "3.12.2"
  }
 },
 "nbformat": 4,
 "nbformat_minor": 2
}
